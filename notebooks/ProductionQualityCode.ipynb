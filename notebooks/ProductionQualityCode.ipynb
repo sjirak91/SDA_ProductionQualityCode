{
 "cells": [
  {
   "cell_type": "markdown",
   "metadata": {
    "id": "_ghEJwcphJwf"
   },
   "source": [
    "<img height=\"180px\" src=\"https://drive.google.com/uc?export=view&id=141XOz6N4nk8Ru1sAl7vOsAToCLrSFCAX\" alt=\"SDA logo\" align=\"left\" hspace=\"30px\" vspace=\"50px\"/>\n",
    "\n",
    "# Welcome to your next notebook with SDA!\n",
    "\n",
    "During the classes we will mostly use [Google Colaboratory](https://colab.research.google.com/?hl=en) which is a free Jupyter notebook environment that requires no setup and runs entirely in the cloud.\n",
    "\n",
    "However, for bigger projects, especially involving Deep Learning and/or big data reading, it might be a better choice to setup Jupyter Notebook or Jupyter Lab on your computer. Also, it is worth noticing that there is a great number of useful extensions (see [nbextensions](https://jupyter-contrib-nbextensions.readthedocs.io/en/latest/index.html) and [jupyter-labextension](https://jupyterlab.readthedocs.io/en/stable/user/extensions.html)) not available for Colab users."
   ]
  },
  {
   "cell_type": "markdown",
   "metadata": {
    "id": "ItV2bqvggw6q"
   },
   "source": [
    "<img src=\"https://drive.google.com/uc?export=view&id=1UO2urRciECzoKE_vHy4RMGfFbkOWOGlW\" alt=\"SDA logo\" align=\"left\" width=\"100px\" hspace=\"10px\" vspace=\"10px\"/>\n",
    "\n",
    "# Production Quality Code\n",
    "\n",
    "**<font color='#4472c4'>PRACTICAL WORKSHOPS WITH SCREEN SHARING BY YOUR MENTOR</font>**\n",
    "\n",
    "<br>\n",
    "\n",
    "This notebook demonstrates how to write production-quality code with a focus on:\n",
    "- Modular code\n",
    "- Exception handling\n",
    "- Performance optimization\n",
    "- Unit testing\n",
    "- Logging\n",
    "\n",
    "The aim is to guide you on converting experimental code into maintainable, reusable, and efficient code for real-world applications.\n",
    "\n",
    "---"
   ]
  },
  {
   "cell_type": "markdown",
   "metadata": {
    "id": "v0nC26BBhhdN"
   },
   "source": [
    "<img src=\"https://drive.google.com/uc?export=view&id=141XOz6N4nk8Ru1sAl7vOsAToCLrSFCAX\" alt=\"SDA logo\" width=\"150\" align='right'/>\n",
    "<br>\n",
    "\n",
    "## Flexible Functions with `*args` and `**kwargs`\n",
    "\n",
    "In Python, we often encounter scenarios where the number of inputs to a function is unknown. To handle such cases, we use `*args` for positional arguments and `**kwargs` for keyword arguments."
   ]
  },
  {
   "cell_type": "code",
   "execution_count": null,
   "metadata": {
    "colab": {
     "base_uri": "https://localhost:8080/"
    },
    "id": "0EfzKHprQ54N",
    "outputId": "8cce8098-27c2-412c-c908-513bcc8e8aa5"
   },
   "outputs": [],
   "source": [
    "def print_all(*args, **kwargs):\n",
    "    for arg in args:\n",
    "        print(arg)\n",
    "\n",
    "    # Iterate over keyword arguments and print key-value pairs\n",
    "    for key, value in kwargs.items():\n",
    "        print(f\"{key}: {value}\")\n",
    "\n",
    "\n",
    "# Call the function with various inputs\n",
    "print_all(1, 2, 3, name=\"AI Engineer\", course=\"Machine Learning\")\n"
   ]
  },
  {
   "cell_type": "code",
   "execution_count": null,
   "metadata": {
    "colab": {
     "base_uri": "https://localhost:8080/"
    },
    "id": "8SBzxaHDRIKB",
    "outputId": "5a79ebc7-279f-4ea5-a37b-b25f7c575946"
   },
   "outputs": [],
   "source": [
    "def print_all(**kwargs):\n",
    "    # for arg in *:\n",
    "        # print(arg)\n",
    "\n",
    "    for key, value in kwargs.items():\n",
    "        print(f\"{key}: {value}\")\n",
    "\n",
    "print_all(name=\"AI Engineer\", course=\"Machine Learning\")\n"
   ]
  },
  {
   "cell_type": "markdown",
   "metadata": {
    "id": "NOBrbrOkvOrD"
   },
   "source": [
    "<img src=\"https://drive.google.com/uc?export=view&id=141XOz6N4nk8Ru1sAl7vOsAToCLrSFCAX\" alt=\"SDA logo\" width=\"150\" align='right'/>\n",
    "<br>\n",
    "\n",
    "## Measuring Performance\n",
    "\n",
    "Performance is a critical aspect of production code. Python offers tools like `%timeit` (for Jupyter) to measure the execution time of code snippets.\n",
    "\n",
    "- List comprehensions are often more readable and Pythonic.\n",
    "- `numpy` is highly optimized for numerical operations and is often faster for large datasets.\n"
   ]
  },
  {
   "cell_type": "code",
   "execution_count": null,
   "metadata": {
    "id": "txMtP0kMUCEI"
   },
   "outputs": [],
   "source": [
    "numbers = range(500)"
   ]
  },
  {
   "cell_type": "code",
   "execution_count": null,
   "metadata": {
    "colab": {
     "base_uri": "https://localhost:8080/"
    },
    "id": "n4KcZ2v-RQDZ",
    "outputId": "9c32928a-fdb0-4215-a479-be22708a4a1a"
   },
   "outputs": [],
   "source": [
    "%%timeit -n 1000\n",
    "squares = list(map(lambda x: x ** 2, numbers))\n",
    "# print(squares)"
   ]
  },
  {
   "cell_type": "markdown",
   "metadata": {
    "id": "2Qi1TU76S8kf"
   },
   "source": [
    "> A **nanosecond** is a unit of time in the SI system, equal to one billionth of a second.  \n",
    "It is represented mathematically as:  \n",
    "$$1 \\, \\text{ns} = 10^{-9} \\, s = \\frac{1}{1,000,000,000} \\, s.$$\n",
    "> Nanoseconds are often used in computer science and electronics to measure the time taken for data to travel through electronic circuits or networks. For example, modern CPUs may perform operations in just a few nanoseconds.\n",
    "\n",
    "> A **microsecond** is a unit of time in the SI system, equal to one millionth of a second. It is represented mathematically as:  \n",
    "$$1 \\, \\mu s = 10^{-6} \\, s = \\frac{1}{1\\ 000\\ 000} \\, s.$$  \n",
    "> For context, an electromagnetic wave with a wavelength of **300 meters** has a period of 1 microsecond. This corresponds to a frequency of **1 MHz (1,000,000 Hz)**.\n",
    "\n",
    "> A millisecond is another unit of time in the SI system, equal to one thousandth of a second.  \n",
    "It can be expressed as:  \n",
    "$$1 \\, ms = 10^{-3} \\, s = \\frac{1}{1,000} \\, s.$$  \n",
    ">\n",
    "> Additionally, a millisecond is related to the microsecond as:  \n",
    "$$1 \\, ms = 1,000 \\, \\mu s.$$\n",
    "\n",
    "Understanding these units is essential for working with high-speed systems, wave physics, and precision timing.\n",
    "\n",
    "<center>\n",
    "\n",
    "| Unit          | Time in Seconds     | Relation to Other Units          | Common Use Cases                              |\n",
    "|---------------|---------------------|-----------------------------------|----------------------------------------------|\n",
    "| **Nanosecond (ns)** | $$1 \\, \\text{ns} = 10^{-9} \\, s$$ | $$1 \\, \\mu s = 1\\ 000 \\, \\text{ns}$$ | Electronics, networking, CPU cycles          |\n",
    "| **Microsecond (μs)** | $$1 \\, \\mu s = 10^{-6} \\, s$$ | $$1 \\, \\text{ms} = 1\\ 000 \\, \\mu s$$ | Wave physics, precise measurements           |\n",
    "| **Millisecond (ms)** | $$1 \\, \\text{ms} = 10^{-3} \\, s$$ | $$1 \\, s = 1\\ 000 \\, \\text{ms}$$     | Real-time systems, timers, human perception  |\n",
    "\n",
    "</center>\n",
    "\n"
   ]
  },
  {
   "cell_type": "markdown",
   "metadata": {
    "id": "av2sulZ1yV0U"
   },
   "source": [
    "---\n",
    "\n",
    "**Task | Compare different methods for calculating squares of numbers:**\n",
    "\n",
    "- Using map with a lambda function.\n",
    "- Using a list comprehension.\n",
    "- Using numpy arrays for vectorized operations."
   ]
  },
  {
   "cell_type": "code",
   "execution_count": null,
   "metadata": {
    "colab": {
     "base_uri": "https://localhost:8080/"
    },
    "id": "AkWXK5JeSIqd",
    "outputId": "b1d11eed-5082-4b75-d09b-3d6e9ab2a130"
   },
   "outputs": [],
   "source": [
    "%%timeit -n 1000\n",
    "[i**2 for i in numbers]"
   ]
  },
  {
   "cell_type": "code",
   "execution_count": null,
   "metadata": {
    "id": "VoUcsOXnSTNa"
   },
   "outputs": [],
   "source": [
    "import numpy as np"
   ]
  },
  {
   "cell_type": "code",
   "execution_count": null,
   "metadata": {
    "colab": {
     "base_uri": "https://localhost:8080/"
    },
    "id": "je_xjpDySL8J",
    "outputId": "4384e11c-7ba4-486b-90e2-7887b0f833c9"
   },
   "outputs": [],
   "source": [
    "%%timeit -n 1000\n",
    "np.array(numbers) * np.array(numbers)"
   ]
  },
  {
   "cell_type": "code",
   "execution_count": null,
   "metadata": {
    "colab": {
     "base_uri": "https://localhost:8080/"
    },
    "id": "swx3bXhmSR7G",
    "outputId": "f510261d-5f55-40ec-a35d-5dae4c49ab28"
   },
   "outputs": [],
   "source": [
    "%%timeit -n 1000\n",
    "output = []\n",
    "\n",
    "for i in numbers:\n",
    "    output.append(i**2)"
   ]
  },
  {
   "cell_type": "code",
   "execution_count": null,
   "metadata": {
    "colab": {
     "base_uri": "https://localhost:8080/"
    },
    "id": "MehZOfZnTSFo",
    "outputId": "d1f1d3df-b857-458c-e841-66c422ea8099"
   },
   "outputs": [],
   "source": [
    "my_list = [(5, 10), (4, 12), (7, 15)]\n",
    "\n",
    "list(map(lambda tuple_: tuple_[1], my_list))"
   ]
  },
  {
   "cell_type": "code",
   "execution_count": null,
   "metadata": {
    "id": "o2vrawNkUkkG"
   },
   "outputs": [],
   "source": [
    "numbers = range(10000)"
   ]
  },
  {
   "cell_type": "code",
   "execution_count": null,
   "metadata": {
    "colab": {
     "base_uri": "https://localhost:8080/"
    },
    "id": "foiDiZPzU2x0",
    "outputId": "88ada844-da90-4746-d51b-1931586cde84"
   },
   "outputs": [],
   "source": [
    "%%timeit -n 1000\n",
    "even_numbers = list(filter(lambda x: x % 2 == 0, numbers))\n",
    "# print(even_numbers)"
   ]
  },
  {
   "cell_type": "code",
   "execution_count": null,
   "metadata": {
    "colab": {
     "base_uri": "https://localhost:8080/"
    },
    "id": "sxmDVMTAU1Sb",
    "outputId": "046f7d94-e6f4-478c-ebad-e69954a5bda1"
   },
   "outputs": [],
   "source": [
    "%%timeit -n 1000\n",
    "even_numbers = [i for i in numbers if i%2 == 0]"
   ]
  },
  {
   "cell_type": "code",
   "execution_count": null,
   "metadata": {
    "id": "ZWjdH7dtVrXA"
   },
   "outputs": [],
   "source": [
    "from functools import reduce\n",
    "\n",
    "numbers = [1, 2, 3, 4, 5]"
   ]
  },
  {
   "cell_type": "code",
   "execution_count": null,
   "metadata": {
    "colab": {
     "base_uri": "https://localhost:8080/"
    },
    "id": "638NLKS6VBDb",
    "outputId": "238e8cb7-b1f7-49c5-a105-dd189943dcd1"
   },
   "outputs": [],
   "source": [
    "%%timeit -n 1000\n",
    "product = reduce(lambda x, y: x * y, numbers)"
   ]
  },
  {
   "cell_type": "code",
   "execution_count": null,
   "metadata": {
    "colab": {
     "base_uri": "https://localhost:8080/"
    },
    "id": "2TT4AERVVpqM",
    "outputId": "a94a1ea7-41b1-47e2-b798-8aff9b711939"
   },
   "outputs": [],
   "source": [
    "%%timeit -n 1000\n",
    "\n",
    "product = 1\n",
    "for i in numbers:\n",
    "    product *= i"
   ]
  },
  {
   "cell_type": "code",
   "execution_count": null,
   "metadata": {
    "colab": {
     "base_uri": "https://localhost:8080/"
    },
    "id": "DBwqjMc1V-Sp",
    "outputId": "3c09600c-294e-4a39-9f34-b0e94f8739c1"
   },
   "outputs": [],
   "source": [
    "%%timeit -n 1000\n",
    "np.prod(numbers)"
   ]
  },
  {
   "cell_type": "markdown",
   "metadata": {
    "id": "qfpVCJj0yaiU"
   },
   "source": [
    "<img src=\"https://drive.google.com/uc?export=view&id=141XOz6N4nk8Ru1sAl7vOsAToCLrSFCAX\" alt=\"SDA logo\" width=\"150\" align='right'/>\n",
    "<br>\n",
    "\n",
    "## Error Handling with Exceptions\n",
    "\n",
    "Writing robust code means anticipating and handling errors gracefully. This includes:\n",
    "- Invalid user inputs.\n",
    "- Division by zero.\n",
    "- Missing files or invalid configurations."
   ]
  },
  {
   "cell_type": "code",
   "execution_count": null,
   "metadata": {
    "colab": {
     "base_uri": "https://localhost:8080/"
    },
    "id": "FMTVN2GiWisz",
    "outputId": "ab038b49-b11c-404d-8b5f-b9298778d32b"
   },
   "outputs": [],
   "source": [
    "try:\n",
    "    number = int(input(\"Enter a number: \"))\n",
    "    result = 10 / number\n",
    "except ValueError:\n",
    "    print(\"Invalid input. Please enter a valid number.\")\n",
    "except ZeroDivisionError:\n",
    "    print(\"You can't divide by zero.\")\n",
    "else:\n",
    "    print(f\"The result is: {result}\")\n",
    "finally:\n",
    "    print(\"End of execution.\")"
   ]
  },
  {
   "cell_type": "markdown",
   "metadata": {
    "id": "iKpmvuJUyltR"
   },
   "source": [
    "- Proper error handling prevents crashes and improves user experience.\n",
    "- The `finally` block ensures that cleanup or final steps are executed, regardless of errors."
   ]
  },
  {
   "cell_type": "markdown",
   "metadata": {
    "id": "RpdYPcksytVf"
   },
   "source": [
    "<img src=\"https://drive.google.com/uc?export=view&id=141XOz6N4nk8Ru1sAl7vOsAToCLrSFCAX\" alt=\"SDA logo\" width=\"150\" align='right'/>\n",
    "<br>\n",
    "\n",
    "## Custom Exceptions\n",
    "\n",
    "Sometimes, the built-in exceptions are not enough. Custom exceptions allow us to handle domain-specific errors more effectively.\n",
    "\n",
    "- Custom exceptions make debugging easier by providing meaningful error messages.\n",
    "- They allow better handling of specific application logic."
   ]
  },
  {
   "cell_type": "code",
   "execution_count": null,
   "metadata": {
    "colab": {
     "base_uri": "https://localhost:8080/"
    },
    "id": "nphXd2LueZ7Z",
    "outputId": "39e2a2be-03fe-471c-f684-23f1b3ef7b03"
   },
   "outputs": [],
   "source": [
    "class MyCustomException(Exception):\n",
    "    pass\n",
    "\n",
    "try:\n",
    "    raise MyCustomException(\"An error specific to my application!\")\n",
    "except MyCustomException as e:\n",
    "    print(e)"
   ]
  },
  {
   "cell_type": "code",
   "execution_count": null,
   "metadata": {
    "id": "TMUk373AfpXr"
   },
   "outputs": [],
   "source": [
    "class InvalidAgeError(Exception):\n",
    "    \"\"\"Exception raised for errors in the age input.\"\"\"\n",
    "    def __init__(self, age, message=\"Age must be between 0 and 120\"):\n",
    "        self.age = age\n",
    "        self.message = message\n",
    "        super().__init__(self.message)\n",
    "\n",
    "# Using the custom exception\n",
    "def set_age(age):\n",
    "    if age < 0 or age > 120:\n",
    "        raise InvalidAgeError(age)\n",
    "    else:\n",
    "        print(f\"Age is set to: {age}\")"
   ]
  },
  {
   "cell_type": "code",
   "execution_count": null,
   "metadata": {
    "colab": {
     "base_uri": "https://localhost:8080/"
    },
    "id": "Qkhp1Uwgf2iS",
    "outputId": "2018ac8f-7ffd-4922-a987-13d0054a2e5d"
   },
   "outputs": [],
   "source": [
    "try:\n",
    "    set_age(150)\n",
    "except InvalidAgeError as e:\n",
    "    print(f\"InvalidAgeError: {e}\")"
   ]
  },
  {
   "cell_type": "markdown",
   "metadata": {
    "id": "zDNNH8eHy6BK"
   },
   "source": [
    "<img src=\"https://drive.google.com/uc?export=view&id=141XOz6N4nk8Ru1sAl7vOsAToCLrSFCAX\" alt=\"SDA logo\" width=\"150\" align='right'/>\n",
    "<br>\n",
    "\n",
    "## Object-Oriented Programming (OOP)\n",
    "\n",
    "OOP allows you to model real-world entities as objects, making your code more modular and reusable.\n",
    "\n",
    "- Encapsulation ensures that each object manages its own data and behavior.\n",
    "- Makes the code modular and easier to extend.\n",
    "\n",
    "**Task | Define a `Fraction` class to represent fractions and perform operations like multiplication.**\n",
    "\n"
   ]
  },
  {
   "cell_type": "code",
   "execution_count": null,
   "metadata": {
    "id": "2nB6qPbCf3Sp"
   },
   "outputs": [],
   "source": [
    "class Fraction:\n",
    "    def __init__(self, numerator: int, denominator: int):\n",
    "        self.numerator = numerator\n",
    "        self.denominator = denominator\n",
    "\n",
    "    def multiply(self, other_fraction: 'Fraction') -> 'Fraction':\n",
    "        numerator = self.numerator * other_fraction.numerator\n",
    "        denominator = self.denominator * other_fraction.denominator\n",
    "        return Fraction(numerator, denominator)\n",
    "\n",
    "    def find_simplified_fraction(self):\n",
    "        pass\n",
    "\n",
    "    # def __str__(self):\n",
    "        # return f\"{self.numerator}/{self.denominator}\"\n",
    "\n",
    "    def __repr__(self):\n",
    "        return f\"{self.numerator}/{self.denominator}\""
   ]
  },
  {
   "cell_type": "code",
   "execution_count": null,
   "metadata": {
    "id": "p0TTyarJrOLs"
   },
   "outputs": [],
   "source": [
    "fraction_2_3 = Fraction(2, 3)\n",
    "fraction_3_2 = Fraction(3, 2)"
   ]
  },
  {
   "cell_type": "code",
   "execution_count": null,
   "metadata": {
    "colab": {
     "base_uri": "https://localhost:8080/"
    },
    "id": "n-WQ62MetDPX",
    "outputId": "0caada4a-8e4b-49e6-b956-440d21e1d40f"
   },
   "outputs": [],
   "source": [
    "fraction_2_3"
   ]
  },
  {
   "cell_type": "code",
   "execution_count": null,
   "metadata": {
    "colab": {
     "base_uri": "https://localhost:8080/",
     "height": 35
    },
    "id": "aInH0q09sKx1",
    "outputId": "8cd77a2c-29b5-40dc-f193-ca23fe1e9d0f"
   },
   "outputs": [],
   "source": [
    "str(fraction_2_3)"
   ]
  },
  {
   "cell_type": "code",
   "execution_count": null,
   "metadata": {
    "colab": {
     "base_uri": "https://localhost:8080/"
    },
    "id": "h32xCfoesbog",
    "outputId": "3e0f3c0f-f172-4b58-8259-74e5c62efbb8"
   },
   "outputs": [],
   "source": [
    "print(fraction_2_3)"
   ]
  },
  {
   "cell_type": "code",
   "execution_count": null,
   "metadata": {
    "colab": {
     "base_uri": "https://localhost:8080/"
    },
    "id": "meI03sURrSfT",
    "outputId": "76aadcac-82f2-40f8-8616-2b8015c2ad71"
   },
   "outputs": [],
   "source": [
    "fraction_2_3.numerator, fraction_2_3.denominator"
   ]
  },
  {
   "cell_type": "code",
   "execution_count": null,
   "metadata": {
    "colab": {
     "base_uri": "https://localhost:8080/"
    },
    "id": "NoRRLt84rU-n",
    "outputId": "03499167-12f3-41c3-d61d-9517bf1e2021"
   },
   "outputs": [],
   "source": [
    "fraction_2 = fraction_2_3.multiply(fraction_3_2)\n",
    "print(fraction_2)"
   ]
  },
  {
   "cell_type": "markdown",
   "metadata": {
    "id": "dI2lqQu8zD4L"
   },
   "source": [
    "<img src=\"https://drive.google.com/uc?export=view&id=141XOz6N4nk8Ru1sAl7vOsAToCLrSFCAX\" alt=\"SDA logo\" width=\"150\" align='right'/>\n",
    "<br>\n",
    "\n",
    "## Logging\n",
    "\n",
    "Logging is essential for debugging and tracking in production environments. Instead of printing errors, use logs for structured information.\n",
    "\n",
    "- Logs provide historical records of program activity.\n",
    "- They help debug issues without disrupting the user experience."
   ]
  },
  {
   "cell_type": "code",
   "execution_count": null,
   "metadata": {
    "colab": {
     "base_uri": "https://localhost:8080/"
    },
    "id": "pUjUYc79rtqA",
    "outputId": "e845290d-c155-4313-dea1-4459244b88fc"
   },
   "outputs": [],
   "source": [
    "import logging\n",
    "\n",
    "class InvalidConfigurationError(Exception):\n",
    "    pass\n",
    "\n",
    "logging.basicConfig(filename='app.log', level=logging.ERROR)\n",
    "\n",
    "try:\n",
    "    raise InvalidConfigurationError(\"Missing configuration file!\")\n",
    "except InvalidConfigurationError as e:\n",
    "    logging.error(f\"Error occurred: {e}\")\n",
    "    print(\"An error occurred. Check the log for details.\")\n",
    "\n",
    "logging.info(\"Script was finished\")"
   ]
  },
  {
   "cell_type": "markdown",
   "metadata": {
    "id": "BL7hQYzlzN2D"
   },
   "source": [
    "<img src=\"https://drive.google.com/uc?export=view&id=141XOz6N4nk8Ru1sAl7vOsAToCLrSFCAX\" alt=\"SDA logo\" width=\"150\" align='right'/>\n",
    "<br>\n",
    "\n",
    "## Unit Testing\n",
    "\n",
    "Testing ensures that your code behaves as expected. Python’s `unittest` module is built into the standard library and is a great starting point.\n",
    "\n",
    "- Automated tests save time and catch bugs early.\n",
    "- Ensures that changes to the codebase do not break existing functionality."
   ]
  },
  {
   "cell_type": "code",
   "execution_count": null,
   "metadata": {
    "colab": {
     "base_uri": "https://localhost:8080/"
    },
    "id": "8TyxvxQZ1NZ0",
    "outputId": "6753c871-8344-4084-cdc7-f865849b7f70"
   },
   "outputs": [],
   "source": [
    "import unittest\n",
    "\n",
    "# Define a simple test case\n",
    "class TestExample(unittest.TestCase):\n",
    "    def test_addition(self):\n",
    "        self.assertEqual(1 + 1, 2)\n",
    "\n",
    "    def test_subtraction(self):\n",
    "        self.assertEqual(2 - 1, 1)\n",
    "\n",
    "# Run the test case in the notebook\n",
    "unittest.main(argv=[''], verbosity=2, exit=False)"
   ]
  },
  {
   "cell_type": "markdown",
   "metadata": {
    "id": "up92k7QezX-6"
   },
   "source": [
    "<img src=\"https://drive.google.com/uc?export=view&id=141XOz6N4nk8Ru1sAl7vOsAToCLrSFCAX\" alt=\"SDA logo\" width=\"150\" align='right'/>\n",
    "<br>\n",
    "\n",
    "## Parametrized Testing with `pytest`\n",
    "\n",
    "`pytest` allows you to test multiple cases with minimal code using the `@pytest.mark.parametrize` decorator.\n",
    "\n",
    "- Parametrized tests are efficient for testing multiple input-output combinations.\n",
    "- `pytest` offers advanced features for comprehensive testing."
   ]
  },
  {
   "cell_type": "code",
   "execution_count": null,
   "metadata": {
    "colab": {
     "base_uri": "https://localhost:8080/"
    },
    "id": "01GdIO4_DnYo",
    "outputId": "f2798b4d-150c-45e6-d28a-36611bcd9241"
   },
   "outputs": [],
   "source": [
    "# Write your test function in a separate cell\n",
    "def test_addition():\n",
    "    assert 1 + 1 == 2\n",
    "\n",
    "def test_subtraction():\n",
    "    assert 2 - 1 == 1\n",
    "\n",
    "# Run pytest in the notebook\n",
    "!pytest -q"
   ]
  },
  {
   "cell_type": "code",
   "execution_count": null,
   "metadata": {
    "colab": {
     "base_uri": "https://localhost:8080/"
    },
    "id": "ciyic7KODykD",
    "outputId": "e11b9799-4c69-4e92-dcec-48d2b4af6e39"
   },
   "outputs": [],
   "source": [
    "# !pip install ipytest\n",
    "!pip install coverage"
   ]
  },
  {
   "cell_type": "code",
   "execution_count": null,
   "metadata": {
    "colab": {
     "base_uri": "https://localhost:8080/"
    },
    "id": "xeA5oFbzD6Hz",
    "outputId": "90de4322-3c7f-4733-d8f0-9c04f8adf6c2"
   },
   "outputs": [],
   "source": [
    "import ipytest\n",
    "# ipytest.config(rewrite_asserts=True, magics=True)\n",
    "ipytest.autoconfig()\n",
    "\n",
    "# Define your tests\n",
    "def test_addition():\n",
    "    assert 1 + 1 == 2\n",
    "\n",
    "def test_subtraction():\n",
    "    assert 2 - 1 == 1\n",
    "\n",
    "# Run the tests\n",
    "ipytest.run()"
   ]
  },
  {
   "cell_type": "code",
   "execution_count": null,
   "metadata": {
    "id": "VsX8Rhy8KVrs"
   },
   "outputs": [],
   "source": [
    "def count_zeros(number):\n",
    "    \"\"\"Counts zeros in number.\n",
    "\n",
    "     : param number: a certain integer\n",
    "\n",
    "     : return:\n",
    "    \"\"\"\n",
    "    number_str = str(number)\n",
    "    return number_str.count(\"0\")"
   ]
  },
  {
   "cell_type": "code",
   "execution_count": null,
   "metadata": {
    "colab": {
     "base_uri": "https://localhost:8080/"
    },
    "id": "Xh88YTFIEAfJ",
    "outputId": "4cf3b080-8c8e-49ad-970e-5b4bfaa962b5"
   },
   "outputs": [],
   "source": [
    "import pytest\n",
    "import ipytest\n",
    "\n",
    "ipytest.autoconfig()\n",
    "\n",
    "@pytest.mark.parametrize(\"number, expected\", [\n",
    "    (11, 0),  # number without zeros\n",
    "    (101, 1),\n",
    "    (100010, 4),\n",
    "    (00000, 1),\n",
    "    (\"00000\", 5)\n",
    "])\n",
    "\n",
    "def test_count_zeros(number, expected):\n",
    "    assert count_zeros(number) == expected\n",
    "\n",
    "ipytest.run()"
   ]
  }
 ],
 "metadata": {
  "colab": {
   "provenance": []
  },
  "kernelspec": {
   "display_name": "Python 3 (ipykernel)",
   "language": "python",
   "name": "python3"
  },
  "language_info": {
   "codemirror_mode": {
    "name": "ipython",
    "version": 3
   },
   "file_extension": ".py",
   "mimetype": "text/x-python",
   "name": "python",
   "nbconvert_exporter": "python",
   "pygments_lexer": "ipython3",
   "version": "3.8.8"
  }
 },
 "nbformat": 4,
 "nbformat_minor": 4
}
